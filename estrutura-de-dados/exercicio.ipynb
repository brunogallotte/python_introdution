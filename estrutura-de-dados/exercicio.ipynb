{
  "cells": [
    {
      "cell_type": "markdown",
      "metadata": {
        "id": "KJqp9AANOCtf"
      },
      "source": [
        "<img src=\"https://raw.githubusercontent.com/andre-marcos-perez/ebac-course-utils/main/media/logo/newebac_logo_black_half.png\" alt=\"ebac-logo\">\n",
        "\n",
        "---\n",
        "\n",
        "# **Módulo** | Python: Estruturas de Dados\n",
        "Caderno de **Exercícios**<br> \n",
        "Professor [André Perez](https://www.linkedin.com/in/andremarcosperez/)\n",
        "\n",
        "---"
      ]
    },
    {
      "cell_type": "markdown",
      "metadata": {
        "id": "d9jDtUbDOE1-"
      },
      "source": [
        "# **Tópicos**\n",
        "\n",
        "<ol type=\"1\">\n",
        "  <li>Listas;</li>\n",
        "  <li>Conjuntos;</li>\n",
        "  <li>Dicionários.</li>\n",
        "</ol>"
      ]
    },
    {
      "cell_type": "markdown",
      "metadata": {
        "id": "SmoHgt-lwkpD"
      },
      "source": [
        "---"
      ]
    },
    {
      "cell_type": "markdown",
      "metadata": {
        "id": "GABI6OW8OfQ2"
      },
      "source": [
        "# **Exercícios**"
      ]
    },
    {
      "cell_type": "markdown",
      "metadata": {
        "id": "muD1vxozykSC"
      },
      "source": [
        "## 1\\. Listas"
      ]
    },
    {
      "cell_type": "markdown",
      "metadata": {
        "id": "ahrFfCuBxJKs"
      },
      "source": [
        "Criei uma lista chamada `filmes` com o nome dos 10 primeiros filmes mais bem avaliados no site no [IMDB](https://www.imdb.com/chart/top/). Imprima o resultado."
      ]
    },
    {
      "cell_type": "code",
      "execution_count": null,
      "metadata": {
        "id": "OgL6Hv3bzOHI"
      },
      "outputs": [],
      "source": [
        "filmes = ['Um sonho de Liberdade', 'O poderoso chefão', 'Batman - O cavaleiro das trevas', 'O poderoso Chefão II', '12 Homens e uma Sentença', 'A lista de Schindler', 'O senhor dos Anéis: O retorno do Rei', 'Pulp Fiction - Tempo de Violência', 'O senhor dos Anéis: A sociedade do Anel', 'Três homens em Conflito']\n",
        "print(filmes)"
      ]
    },
    {
      "cell_type": "markdown",
      "metadata": {
        "id": "KI9zQRT2xa7m"
      },
      "source": [
        "Simule a movimentação do *ranking*. Utilize os métodos `insert` e `pop` para trocar a posição do primeiro e do segundo filme da lista. Imprima o resultado.\n",
        "\n"
      ]
    },
    {
      "cell_type": "code",
      "execution_count": null,
      "metadata": {
        "id": "zX3mA3_GzrXH"
      },
      "outputs": [],
      "source": [
        "filmes.pop(0)\n",
        "filmes.insert(1, 'Um sonho de Liberdade')\n",
        "print(filmes)"
      ]
    },
    {
      "cell_type": "markdown",
      "metadata": {
        "id": "zMN1Q3jdwoJm"
      },
      "source": [
        "---"
      ]
    },
    {
      "cell_type": "markdown",
      "metadata": {
        "id": "lxa5L6uF0ZJE"
      },
      "source": [
        "## 2\\. Conjuntos"
      ]
    },
    {
      "cell_type": "markdown",
      "metadata": {
        "id": "9JahS2Kj0d5u"
      },
      "source": [
        "Aconteceu um erro no seu *ranking*. Simule a duplicação dos três últimos filmes da lista. Imprima o resultado."
      ]
    },
    {
      "cell_type": "code",
      "execution_count": null,
      "metadata": {
        "id": "BnjnLBNC6PGe"
      },
      "outputs": [],
      "source": [
        "filmes = ['Um sonho de Liberdade', 'O poderoso chefão', 'Batman - O cavaleiro das trevas', 'O poderoso Chefão II', '12 Homens e uma Sentença', 'A lista de Schindler', 'O senhor dos Anéis: O retorno do Rei', 'Pulp Fiction - Tempo de Violência','Pulp Fiction - Tempo de Violência', 'O senhor dos Anéis: A sociedade do Anel','O senhor dos Anéis: A sociedade do Anel', 'Três homens em Conflito', 'Três homens em Conflito']\n",
        "print(filmes)"
      ]
    },
    {
      "cell_type": "markdown",
      "metadata": {
        "id": "suxTfCJB6ZiX"
      },
      "source": [
        "Utiliza a conversão `set` e `list` para remover os valores duplicados. Imprima o resultado. "
      ]
    },
    {
      "cell_type": "code",
      "execution_count": null,
      "metadata": {
        "id": "ZvUGN-0n6joM"
      },
      "outputs": [],
      "source": [
        "filmes = list(set(filmes))\n",
        "print(filmes)"
      ]
    },
    {
      "cell_type": "markdown",
      "metadata": {
        "id": "ShkK35eQ6pAM"
      },
      "source": [
        "---"
      ]
    },
    {
      "cell_type": "markdown",
      "metadata": {
        "id": "EL_FzmxL6rTv"
      },
      "source": [
        "## 3\\. Dicionários"
      ]
    },
    {
      "cell_type": "markdown",
      "metadata": {
        "id": "i8l0gFqRCpfT"
      },
      "source": [
        "Repita os exercícios da parte 1 (listas). Os elementos da lista `filmes` devem ser dicionários no seguinte formato: `{'nome': <nome-do-filme>, 'ano': <ano do filme>}, 'sinopse': <sinopse do filme>}`. "
      ]
    },
    {
      "cell_type": "code",
      "execution_count": null,
      "metadata": {
        "id": "tu6MSFwGDnHv"
      },
      "outputs": [],
      "source": [
        "# Organizei simulando um id para cada filme dentro do dicionário... só não coloquei a sinopse real para nāo tomar muito espaço...\n",
        "\n",
        "filmes = {\n",
        "    '1': {\n",
        "        'nome':'Um sonho de Liberdade',\n",
        "        'ano': '1994',\n",
        "        'sinopse': 'lorem hahaha'\n",
        "    },\n",
        "    '2': {\n",
        "        'nome':'O poderoso chefāo',\n",
        "        'ano': '1972',\n",
        "        'sinopse': 'lorem hahaha'\n",
        "    },\n",
        "    '3': {\n",
        "        'nome':'Batman - O Cavaleiro das Trevas',\n",
        "        'ano': '2008',\n",
        "        'sinopse': 'lorem hahaha'\n",
        "    },\n",
        "    '4': {\n",
        "        'nome':'O poderoso Chefāo II',\n",
        "        'ano': '1974',\n",
        "        'sinopse': 'lorem hahaha'\n",
        "    },\n",
        "    '5': {\n",
        "        'nome':'12 Homens e uma Sentença',\n",
        "        'ano': '1957',\n",
        "        'sinopse': 'lorem hahaha'\n",
        "    },\n",
        "    '6': {\n",
        "        'nome':'A lista de Schindler',\n",
        "        'ano': '1993',\n",
        "        'sinopse': 'lorem hahaha'\n",
        "    },\n",
        "    '7': {\n",
        "        'nome':'O senhor dos Anéis: O retorno do Rei',\n",
        "        'ano': '2003',\n",
        "        'sinopse': 'lorem hahaha'\n",
        "    },\n",
        "    '8': {\n",
        "        'nome':'Pulp Fiction - Tempo de Violência',\n",
        "        'ano': '1994',\n",
        "        'sinopse': 'lorem hahaha'\n",
        "    },\n",
        "    '9': {\n",
        "        'nome':'O senhor dos Anéis: A sociedade do Anel',\n",
        "        'ano': '2001',\n",
        "        'sinopse': 'lorem hahaha'\n",
        "    },\n",
        "    '10': {\n",
        "        'nome':'Três homens em Conflito',\n",
        "        'ano': '1966',\n",
        "        'sinopse': 'lorem hahaha'\n",
        "    }\n",
        "}"
      ]
    }
  ],
  "metadata": {
    "colab": {
      "collapsed_sections": [],
      "name": "module_2_exercise.ipynb",
      "provenance": [],
      "toc_visible": true
    },
    "kernelspec": {
      "display_name": "Python 3",
      "name": "python3"
    }
  },
  "nbformat": 4,
  "nbformat_minor": 0
}
